{
 "cells": [
  {
   "cell_type": "code",
   "execution_count": 1,
   "metadata": {},
   "outputs": [
    {
     "name": "stdout",
     "output_type": "stream",
     "text": [
      "Titik Awal: 0.2\n",
      "Titik Kedua: 0.5\n",
      "Batasan error: 10e-5\n",
      "Iterasi ke -1, x2 = 0.350000 dan f(x2) = 0.074495\n",
      "Iterasi ke -2, x2 = 0.275000 dan f(x2) = 0.004476\n",
      "Iterasi ke -3, x2 = 0.237500 dan f(x2) = -0.023428\n",
      "Iterasi ke -4, x2 = 0.256250 dan f(x2) = -0.010224\n",
      "Iterasi ke -5, x2 = 0.265625 dan f(x2) = -0.003050\n",
      "Iterasi ke -6, x2 = 0.270313 dan f(x2) = 0.000670\n",
      "Iterasi ke -7, x2 = 0.267969 dan f(x2) = -0.001200\n",
      "Iterasi ke -8, x2 = 0.269141 dan f(x2) = -0.000268\n",
      "Iterasi ke -9, x2 = 0.269727 dan f(x2) = 0.000201\n",
      "Iterasi ke -10, x2 = 0.269434 dan f(x2) = -0.000034\n",
      "\n",
      "Akar yang dibutuhkan : 0.26943359\n"
     ]
    }
   ],
   "source": [
    "import math\n",
    "\n",
    "# Fungi yang akan digunakan\n",
    "def f(x):\n",
    "    return (x-1)*math.tan(x) + x*math.sin(3.14*x)\n",
    "\n",
    "# Penentuan metode bisection\n",
    "def bisection(x0,x1,e):\n",
    "    step = 1\n",
    "    \n",
    "    condition = True\n",
    "    while condition:\n",
    "        x2 = (x0 + x1)/2\n",
    "        print('Iterasi ke -%d, x2 = %0.6f dan f(x2) = %0.6f' % (step, x2, f(x2)))\n",
    "\n",
    "        if f(x0) * f(x2) < 0:\n",
    "            x1 = x2\n",
    "        else:\n",
    "            x0 = x2\n",
    "        \n",
    "        step = step + 1\n",
    "        condition = abs(f(x2)) > e\n",
    "\n",
    "    print('\\nAkar yang dibutuhkan : %0.8f' % x2)\n",
    "\n",
    "\n",
    "# Baris untuk memasukkan nilai\n",
    "x0 = input('Titik Awal: ')\n",
    "x1 = input('Titik Kedua: ')\n",
    "e = input('Batasan error: ')\n",
    "\n",
    "# Merubah nilai input menjadi float\n",
    "x0 = float(x0)\n",
    "x1 = float(x1)\n",
    "e = float(e)\n",
    "\n",
    "# Pengecekan awal nilai bisection\n",
    "if f(x0) * f(x1) > 0.0:\n",
    "    print('Nilai yang dimasukkan tidak masuk dalam kurungan.')\n",
    "    print('Coba dengan nilai baru.')\n",
    "else:\n",
    "    bisection(x0,x1,e)\n"
   ]
  },
  {
   "cell_type": "code",
   "execution_count": null,
   "metadata": {},
   "outputs": [],
   "source": []
  }
 ],
 "metadata": {
  "kernelspec": {
   "display_name": "Python 3",
   "language": "python",
   "name": "python3"
  },
  "language_info": {
   "codemirror_mode": {
    "name": "ipython",
    "version": 3
   },
   "file_extension": ".py",
   "mimetype": "text/x-python",
   "name": "python",
   "nbconvert_exporter": "python",
   "pygments_lexer": "ipython3",
   "version": "3.7.4"
  }
 },
 "nbformat": 4,
 "nbformat_minor": 2
}
