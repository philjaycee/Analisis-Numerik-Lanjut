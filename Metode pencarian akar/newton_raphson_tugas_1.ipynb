{
 "cells": [
  {
   "cell_type": "code",
   "execution_count": 1,
   "metadata": {},
   "outputs": [
    {
     "name": "stdout",
     "output_type": "stream",
     "text": [
      "Masukan nilai awal = 0.2\n",
      "Maksimum error = 10e-5\n",
      "Iteration-1, x = 0.200000 and f(x) = -0.044663\n",
      "Iteration-2, x = 0.295936 and f(x) = 0.022432\n",
      "Iteration-3, x = 0.270806 and f(x) = 0.001067\n",
      "Iteration-4, x = 0.269480 and f(x) = 0.000003\n",
      "Iteration-5, x = 0.269476 and f(x) = 0.000000\n",
      "Iteration-6, x = 0.269476 and f(x) = 0.000000\n",
      "Iteration-7, x = 0.269476 and f(x) = -0.000000\n",
      "Iteration-8, x = 0.269476 and f(x) = 0.000000\n",
      "Iteration-9, x = 0.269476 and f(x) = -0.000000\n",
      "Iteration-10, x = 0.269476 and f(x) = 0.000000\n",
      "Solution : x = 0.26947569720218556, f(x) = -2.7755575615628914e-17 \n"
     ]
    }
   ],
   "source": [
    "\n",
    "import math\n",
    "\n",
    "def turunan( f,x, dx = 1e-4):\n",
    "    df = f(x + dx) - f(x - dx)\n",
    "    return df/(2*dx)\n",
    "\n",
    "def newton(f, x0, tol):\n",
    "    step = 1\n",
    "    x = x0\n",
    "    fx = f(x)\n",
    "\n",
    "    if abs(fx) < tol:\n",
    "        return x\n",
    "\n",
    "    for i in range (10) :\n",
    "        print('Iteration-%d, x = %0.6f and f(x) = %0.6f' % (step, x, f(x)))\n",
    "\n",
    "        fpx = turunan(f, x)\n",
    "        if abs(fpx) < tol:\n",
    "            break\n",
    "\n",
    "        x = x - fx/fpx\n",
    "        fx = f(x)\n",
    "        \n",
    "        step = step +1\n",
    "\n",
    "    return x\n",
    "\n",
    "def func(x):\n",
    "    return (x-1)*math.tan(x) + x*math.sin(3.14*x) \n",
    "\n",
    "awal = float(input(\"Masukan nilai awal = \"))\n",
    "galat = float(input(\"Maksimum error = \"))\n",
    "\n",
    "x0 = float(awal)\n",
    "tol = float(galat)\n",
    "\n",
    "x = newton(func, x0, tol )\n",
    "print(\"Solution : x = {}, f(x) = {} \".format(x, func(x)))\n",
    "\n"
   ]
  },
  {
   "cell_type": "code",
   "execution_count": null,
   "metadata": {},
   "outputs": [],
   "source": []
  }
 ],
 "metadata": {
  "kernelspec": {
   "display_name": "Python 3",
   "language": "python",
   "name": "python3"
  },
  "language_info": {
   "codemirror_mode": {
    "name": "ipython",
    "version": 3
   },
   "file_extension": ".py",
   "mimetype": "text/x-python",
   "name": "python",
   "nbconvert_exporter": "python",
   "pygments_lexer": "ipython3",
   "version": "3.7.4"
  }
 },
 "nbformat": 4,
 "nbformat_minor": 2
}
