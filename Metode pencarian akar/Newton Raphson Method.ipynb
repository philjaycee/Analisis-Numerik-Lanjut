{
 "cells": [
  {
   "cell_type": "code",
   "execution_count": null,
   "metadata": {},
   "outputs": [],
   "source": [
    "import math\n",
    "\n",
    "\n",
    "def derivative(f,x, dx = 1e-6):\n",
    "    \n",
    "    df = f(x + dx) - f(x - dx)\n",
    "    \n",
    "    return df/(2*dx)\n",
    "\n",
    "def newton(f, x0 , tol = 1e-10, maxit =100):\n",
    "    \n",
    "    x = x0\n",
    "    fx = f(x)\n",
    "    \n",
    "    if abs(fx) < tol:\n",
    "        return x\n",
    "    \n",
    "    for i in range(maxit):\n",
    "        \n",
    "        fpx = derivative(f, x)\n",
    "        \n",
    "        x = x - fx/fpx\n",
    "        fx = f(x)\n",
    "        \n",
    "        \n",
    "        if absf(x)< tol:\n",
    "            break\n",
    "            \n",
    "        return x\n",
    "\n",
    "\n",
    "\n",
    "        "
   ]
  }
 ],
 "metadata": {
  "kernelspec": {
   "display_name": "Python 3",
   "language": "python",
   "name": "python3"
  },
  "language_info": {
   "codemirror_mode": {
    "name": "ipython",
    "version": 3
   },
   "file_extension": ".py",
   "mimetype": "text/x-python",
   "name": "python",
   "nbconvert_exporter": "python",
   "pygments_lexer": "ipython3",
   "version": "3.7.4"
  }
 },
 "nbformat": 4,
 "nbformat_minor": 2
}
