{
 "cells": [
  {
   "cell_type": "code",
   "execution_count": 4,
   "metadata": {},
   "outputs": [
    {
     "name": "stdout",
     "output_type": "stream",
     "text": [
      "Angka Awal: 0.6\n",
      "Tolerable Error: 10e-5\n",
      "Maximum Step: 7\n",
      "Iteration-1, x1 = 0.287648 and f(x1) = 0.015145\n",
      "Iteration-2, x1 = 0.268364 and f(x1) = -0.000887\n",
      "Iteration-3, x1 = 0.269552 and f(x1) = 0.000061\n",
      "\n",
      " Akar =  0.26955166\n"
     ]
    }
   ],
   "source": [
    "\n",
    "import math\n",
    "\n",
    "def f(x):\n",
    "    return (x-1)*math.tan(x) + x*math.sin(3.14*x)\n",
    "\n",
    "# Mengubah fungsi f(x) dengan merubah menjadi x =\n",
    "def g(x):\n",
    "    return ((-x + 1)*math.tan(x))/math.sin(3.14*x)\n",
    "\n",
    "# Implementing Fixed Point Iteration Method\n",
    "def fixedPointIteration(x0, e, N):\n",
    "    \n",
    "    step = 1\n",
    "    flag = 1\n",
    "    condition = True\n",
    "    while condition:\n",
    "        x1 = g(x0)\n",
    "        print('Iteration-%d, x1 = %0.6f and f(x1) = %0.6f' % (step, x1, f(x1)))\n",
    "        x0 = x1\n",
    "\n",
    "        step = step + 1\n",
    "        \n",
    "        if step > N:\n",
    "            flag=0\n",
    "            break\n",
    "        \n",
    "        condition = abs(f(x1)) > e\n",
    "\n",
    "    if flag==1:\n",
    "        print('\\n Akar =  %0.8f' % x1)\n",
    "    else:\n",
    "        print('\\n Tidak Konvergen.')\n",
    "\n",
    "# Maukkan angka\n",
    "x0 = input('Angka Awal: ')\n",
    "e = input('Tolerable Error: ')\n",
    "N = input('Maximum Step: ')\n",
    "\n",
    "# Merubah nilai input menjadi float\n",
    "x0 = float(x0)\n",
    "e = float(e)\n",
    "\n",
    "# Merubah nilai input menjadi integer\n",
    "N = int(N)\n",
    "\n",
    "fixedPointIteration(x0,e,N)"
   ]
  },
  {
   "cell_type": "code",
   "execution_count": null,
   "metadata": {},
   "outputs": [],
   "source": []
  }
 ],
 "metadata": {
  "kernelspec": {
   "display_name": "Python 3",
   "language": "python",
   "name": "python3"
  },
  "language_info": {
   "codemirror_mode": {
    "name": "ipython",
    "version": 3
   },
   "file_extension": ".py",
   "mimetype": "text/x-python",
   "name": "python",
   "nbconvert_exporter": "python",
   "pygments_lexer": "ipython3",
   "version": "3.7.4"
  }
 },
 "nbformat": 4,
 "nbformat_minor": 2
}
